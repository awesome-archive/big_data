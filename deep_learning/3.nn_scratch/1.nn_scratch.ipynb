{
 "cells": [
  {
   "cell_type": "code",
   "execution_count": 1,
   "metadata": {
    "collapsed": true
   },
   "outputs": [],
   "source": [
    "import autograd.numpy as np\n",
    "import autograd.numpy.random as npr\n",
    "from autograd import grad\n",
    "import sklearn.metrics\n",
    "import pylab"
   ]
  },
  {
   "cell_type": "code",
   "execution_count": 2,
   "metadata": {
    "collapsed": true
   },
   "outputs": [],
   "source": [
    "examples = 1000\n",
    "features = 100\n",
    "LEARNING_RATE = 0.01\n",
    "D = (npr.randn(examples, features), npr.randn(examples,1)) # [X, y]"
   ]
  },
  {
   "cell_type": "code",
   "execution_count": 3,
   "metadata": {
    "collapsed": true
   },
   "outputs": [],
   "source": [
    "# Specify the network 初始化network共两层，第一层10个神经元，第二层1个神经元\n",
    "layer1_units = 10\n",
    "layer2_units = 1\n",
    "w1 = npr.rand(features, layer1_units)   # 第一层10个神经元，每个有100个feature (共1000个权重)\n",
    "b1 = npr.rand(layer1_units) # 偏移项\n",
    "w2 = npr.rand(layer1_units, layer2_units) # 第二层（输出层）1个神经元，每个有100个feature（共100个权重）\n",
    "b2 = 0.0 # 偏移项\n",
    "theta = (w1, b1, w2, b2)"
   ]
  },
  {
   "cell_type": "code",
   "execution_count": 4,
   "metadata": {
    "collapsed": true
   },
   "outputs": [],
   "source": [
    "# Define the loss function 定义损失函数\n",
    "def squared_loss(y, y_hat):\n",
    "    return np.dot((y - y_hat),(y - y_hat))"
   ]
  },
  {
   "cell_type": "code",
   "execution_count": 5,
   "metadata": {
    "collapsed": true
   },
   "outputs": [],
   "source": [
    "# Output Layer 这个demo暂时没用到\n",
    "def binary_cross_entropy(y, y_hat):\n",
    "    return np.sum(-((y * np.log(y_hat)) + ((1-y) * np.log(1 - y_hat))))"
   ]
  },
  {
   "cell_type": "code",
   "execution_count": 6,
   "metadata": {
    "collapsed": true
   },
   "outputs": [],
   "source": [
    "# forward pass 前向传播【WX+b -> tanh激活函数 -> WX+b -> tanh激活函数(output)】\n",
    "def neural_network(x, theta):\n",
    "    w1, b1, w2, b2 = theta\n",
    "    return np.tanh(np.dot((np.tanh(np.dot(x,w1) + b1)), w2) + b2)"
   ]
  },
  {
   "cell_type": "code",
   "execution_count": 11,
   "metadata": {
    "collapsed": true
   },
   "outputs": [],
   "source": [
    "# Wrapper around the objective function to be optimised\n",
    "def objective(theta, idx):\n",
    "    return squared_loss(D[1][idx], neural_network(D[0][idx], theta))\n",
    "\n",
    "# Compute Gradient 装载objective函数\n",
    "grad_objective = grad(objective)"
   ]
  },
  {
   "cell_type": "code",
   "execution_count": 9,
   "metadata": {
    "collapsed": true
   },
   "outputs": [],
   "source": [
    "# Update\n",
    "def update_theta(theta, delta, alpha):\n",
    "    w1, b1, w2, b2 = theta\n",
    "    w1_delta, b1_delta, w2_delta, b2_delta = delta\n",
    "    w1_new = w1 - alpha * w1_delta  # alpha is learning rate\n",
    "    b1_new = b1 - alpha * b1_delta\n",
    "    w2_new = w2 - alpha * w2_delta\n",
    "    b2_new = b2 - alpha * b2_delta\n",
    "    new_theta = (w1_new,b1_new,w2_new,b2_new)\n",
    "    return new_theta"
   ]
  },
  {
   "cell_type": "code",
   "execution_count": 12,
   "metadata": {
    "collapsed": false
   },
   "outputs": [
    {
     "name": "stdout",
     "output_type": "stream",
     "text": [
      "RMSE before training: 1.94222747317\n",
      "RMSE after training: 0.705272602087\n"
     ]
    }
   ],
   "source": [
    "# Train the Neural Network\n",
    "epochs = 10\n",
    "print (\"RMSE before training:\", sklearn.metrics.mean_squared_error(D[1],neural_network(D[0], theta)))\n",
    "##注意下mini-batch，如果mini-batch size = m: Batch gradient descent；如果mini-batch = 1: Stochastic gradient descent, every example is its own mini-batch\n",
    "rmse = []\n",
    "for i in range(0, epochs):\n",
    "    for j in range(0, examples):  # 这里mini-batch就是每个样本，一般可以比如一个mini-batch包含64,128,256或512个样本\n",
    "        delta = grad_objective(theta, j) # 根据BP算法计算每个权重和偏移项的delta\n",
    "        theta = update_theta(theta,delta, LEARNING_RATE) # 这里的0.01就是learning rate\n",
    "        rmse.append(sklearn.metrics.mean_squared_error(D[1],neural_network(D[0], theta)))\n",
    "print(\"RMSE after training:\", sklearn.metrics.mean_squared_error(D[1],neural_network(D[0], theta)))"
   ]
  },
  {
   "cell_type": "code",
   "execution_count": 13,
   "metadata": {
    "collapsed": false
   },
   "outputs": [
    {
     "data": {
      "image/png": "[encoded data removed]",
      "text/plain": [
       "<matplotlib.figure.Figure at 0x5576780>"
      ]
     },
     "metadata": {},
     "output_type": "display_data"
    }
   ],
   "source": [
    "pylab.plot(rmse)\n",
    "pylab.show()"
   ]
  },
  {
   "cell_type": "code",
   "execution_count": null,
   "metadata": {
    "collapsed": true
   },
   "outputs": [],
   "source": [
    ""
   ]
  }
 ],
 "metadata": {
  "kernelspec": {
   "display_name": "Python [default]",
   "language": "python",
   "name": "python3"
  },
  "language_info": {
   "codemirror_mode": {
    "name": "ipython",
    "version": 3.0
   },
   "file_extension": ".py",
   "mimetype": "text/x-python",
   "name": "python",
   "nbconvert_exporter": "python",
   "pygments_lexer": "ipython3",
   "version": "3.5.2"
  }
 },
 "nbformat": 4,
 "nbformat_minor": 0
}
